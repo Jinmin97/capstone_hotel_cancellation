{
 "cells": [
  {
   "cell_type": "code",
   "execution_count": 6,
   "id": "63e18920",
   "metadata": {},
   "outputs": [
    {
     "name": "stderr",
     "output_type": "stream",
     "text": [
      "2023-02-18 02:45:00.985 \n",
      "  \u001b[33m\u001b[1mWarning:\u001b[0m to view this Streamlit app on a browser, run it with the following\n",
      "  command:\n",
      "\n",
      "    streamlit run C:\\Users\\jinmi\\anaconda3\\lib\\site-packages\\ipykernel_launcher.py [ARGUMENTS]\n"
     ]
    },
    {
     "data": {
      "text/plain": [
       "DeltaGenerator(_root_container=0, _provided_cursor=None, _parent=None, _block_type=None, _form_data=None)"
      ]
     },
     "execution_count": 6,
     "metadata": {},
     "output_type": "execute_result"
    }
   ],
   "source": [
    "import xgboost as xgb\n",
    "import streamlit as st\n",
    "import pandas as pd\n",
    "\n",
    "#Loading up the Regression model we created\n",
    "model = xgb.XGBClassifier()\n",
    "model.load_model('xgb_model.json')\n",
    "\n",
    "# @st.cache\n",
    "\n",
    "# st.title('Hotel Bookings')\n",
    "# st.image(\"\"\"https://www.frommers.com/system/media_items/attachments/000/864/746/s980/shutterstock_ribkhan-crop.jpg?1571248109\"\"\")\n",
    "st.header('Enter the hotel booking info or upload a file:')\n",
    "# no_of_weekday_nights = st.number_input('No. of Weekday Nights:')\n"
   ]
  },
  {
   "cell_type": "code",
   "execution_count": null,
   "id": "a7ec7958",
   "metadata": {},
   "outputs": [],
   "source": []
  }
 ],
 "metadata": {
  "kernelspec": {
   "display_name": "Python 3 (ipykernel)",
   "language": "python",
   "name": "python3"
  },
  "language_info": {
   "codemirror_mode": {
    "name": "ipython",
    "version": 3
   },
   "file_extension": ".py",
   "mimetype": "text/x-python",
   "name": "python",
   "nbconvert_exporter": "python",
   "pygments_lexer": "ipython3",
   "version": "3.9.7"
  }
 },
 "nbformat": 4,
 "nbformat_minor": 5
}
